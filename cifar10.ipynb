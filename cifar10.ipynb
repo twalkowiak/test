{
 "cells": [
  {
   "cell_type": "code",
   "execution_count": 1,
   "metadata": {},
   "outputs": [],
   "source": [
    "import torch\n",
    "import os\n",
    "import sys\n",
    "import pandas as pd\n",
    "import numpy as np\n",
    "import random\n",
    "import os.path\n",
    "from pathlib import Path\n",
    "from collections import Counter\n",
    "\n",
    "from datasets.cifar10 import Cifar10 \n",
    "from datasets.from_files import FromFiles \n",
    "from models.cifar10_resnet101_architecture import Cifar10Resnet101Architecture \n",
    "from models.cifar10_resnet101_gap import Cifar10Resnet101Gap\n",
    "from models.cifar10_resnet101_crow import Cifar10Resnet101CroW\n",
    "from models.cifar10_simple_architecture import Cifar10SimpleArchitecture \n",
    "from models.cifar10_simple_gap import Cifar10SimpleGap\n",
    "from ood.calculate_metrics import CalculateMetrics\n",
    "\n",
    "from ood.max_softmax import MaxSoftmax\n",
    "from ood.max_logits import MaxLogits\n",
    "from ood.lofdiv import LOFDIV\n",
    "from ood.lof import LOF\n",
    "from ood.mahalanobis import Mahalanobis\n",
    "from ood.osnn import Osnn\n",
    "from ood.our_distance import OurDistance\n",
    "\n",
    "np.random.seed(0)\n",
    "torch.manual_seed(0)\n",
    "random.seed(0)\n",
    "\n",
    "os.environ[\"CUDA_VISIBLE_DEVICES\"]=str(1); \n",
    "device = torch.device(\"cuda:0\")\n",
    "\n",
    "batch_size = 64\n",
    "\n",
    "cifar10_orginal = Cifar10()\n",
    "cifar10 = FromFiles(\"hard_cifar10\", \"./results/cifar10/known/\")\n",
    "cifar100 = FromFiles(\"hard_cifar100\", \"./results/cifar10/unknown/cifar100/\")\n",
    "svhn = FromFiles(\"hard_svhn\", \"./results/cifar10/unknown/svhn/\")\n",
    "mnist = FromFiles(\"hard_mnist\", \"./results/cifar10/unknown/mnist/\")\n",
    "noise = FromFiles(\"hard_noise\", \"./results/cifar10/unknown/noise/\")"
   ]
  },
  {
   "cell_type": "code",
   "execution_count": 2,
   "metadata": {},
   "outputs": [],
   "source": [
    "def get_df(loader):\n",
    "    all_out = []\n",
    "    last_id = 0\n",
    "    for i_batch, (data, targets) in enumerate(loader):\n",
    "        sys.stdout.write(\"{}\\r\".format(i_batch))\n",
    "        sys.stdout.flush()\n",
    "                \n",
    "        data = data.to(device)\n",
    "\n",
    "        features = extraction.obtain_features(data)\n",
    "        outputs = model(data)\n",
    "        for i in range(len(data)):\n",
    "            out = {}\n",
    "            out[\"id\"] = last_id + i\n",
    "            out[\"original_label\"] = targets[i].item()\n",
    "            out[\"features\"] = np.array(features[i].detach().cpu())\n",
    "            out[\"classifier\"] = np.array(outputs[i].detach().cpu())\n",
    "            all_out.append(out)\n",
    "        last_id += len(data)\n",
    "                        \n",
    "    df = pd.DataFrame(all_out)\n",
    "    df[\"predicted_label\"] = df[\"classifier\"].apply(lambda x: np.argmax(x))\n",
    "    print(\"            Done: df\", len(df))\n",
    "    return df\n",
    "\n",
    "def test_ood(ood):\n",
    "    calculate_metrics = CalculateMetrics()\n",
    "   \n",
    "    ood.clear()\n",
    "    ood.fit(train_df)\n",
    "    known_results = ood.test(known_df)\n",
    "    unknown_results = ood.test(unknown_df)\n",
    "\n",
    "    bin_acc, wrong_known, wrong_unknown = calculate_metrics.run(ood, known_results, unknown_results)\n",
    "\n",
    "    print(model.name, extraction.name, ood.name, \"---\", bin_acc, len(wrong_known), len(wrong_unknown))\n",
    "    \n",
    "\n",
    "def itr_merge(*itrs):\n",
    "    for itr in itrs:\n",
    "        for v in itr:\n",
    "            yield v"
   ]
  },
  {
   "cell_type": "code",
   "execution_count": 3,
   "metadata": {},
   "outputs": [
    {
     "name": "stdout",
     "output_type": "stream",
     "text": [
      "Files already downloaded and verified\n"
     ]
    }
   ],
   "source": [
    "known_set = cifar10\n",
    "\n",
    "train_loader = cifar10_orginal.get_train_loader(batch_size)\n",
    "known_loader = cifar10.get(batch_size)\n",
    "\n",
    "cifar100_loader = cifar100.get(batch_size)\n",
    "svhn_loader = svhn.get(batch_size)\n",
    "mnist_loader = mnist.get(batch_size)\n",
    "noise_loader = noise.get(batch_size)"
   ]
  },
  {
   "cell_type": "code",
   "execution_count": 4,
   "metadata": {},
   "outputs": [],
   "source": [
    "cifar10_resnet101 = Cifar10Resnet101Architecture()\n",
    "cifar10_resnet101.load_state_dict(torch.load(\"./models/cifar10_resnet101.pt\"), strict=False)\n",
    "cifar10_resnet101 = cifar10_resnet101.to(device)\n",
    "cifar10_resnet101.eval()\n",
    "cifar10_resnet101_gap = Cifar10Resnet101Gap(cifar10_resnet101)\n",
    "cifar10_resnet101_crow = Cifar10Resnet101CroW(cifar10_resnet101)\n",
    "\n",
    "cifar10_simple = Cifar10SimpleArchitecture()\n",
    "cifar10_simple.load_state_dict(torch.load(\"./models/cifar10_simple.pt\"), strict=False)\n",
    "cifar10_simple = cifar10_simple.to(device)\n",
    "cifar10_simple.eval()\n",
    "cifar10_simple_gap = Cifar10SimpleGap(cifar10_simple)"
   ]
  },
  {
   "cell_type": "code",
   "execution_count": 6,
   "metadata": {},
   "outputs": [
    {
     "name": "stdout",
     "output_type": "stream",
     "text": [
      "Cifar10Resnet101 gap MaxSoftmax --- 0.5 0 1000\n",
      "Cifar10Resnet101 gap MaxLogits --- 0.5 0 1000\n",
      "Cifar10Resnet101 gap mahalanobis --- 0.5 1000 0\n",
      "Cifar10Resnet101 gap lof_euclidean --- 0.5 1000 0\n",
      "Cifar10Resnet101 gap lof_cosine --- 0.5 1000 0\n",
      "Cifar10Resnet101 gap lofdiv_euclidean --- 0.5 1000 0\n",
      "Cifar10Resnet101 gap lofdiv_cosine --- 0.5 1000 0\n",
      "Cifar10Resnet101 gap OSNN_euclidean --- 0.5 0 1000\n",
      "Cifar10Resnet101 gap OSNN_cosine --- 0.5 0 1000\n"
     ]
    },
    {
     "ename": "KeyboardInterrupt",
     "evalue": "",
     "output_type": "error",
     "traceback": [
      "\u001b[0;31m---------------------------------------------------------------------------\u001b[0m",
      "\u001b[0;31mKeyboardInterrupt\u001b[0m                         Traceback (most recent call last)",
      "\u001b[0;32m<ipython-input-6-3ef54c88894b>\u001b[0m in \u001b[0;36m<module>\u001b[0;34m\u001b[0m\n\u001b[1;32m      8\u001b[0m \u001b[0mtest_ood\u001b[0m\u001b[0;34m(\u001b[0m\u001b[0mOsnn\u001b[0m\u001b[0;34m(\u001b[0m\u001b[0mOsnn\u001b[0m\u001b[0;34m.\u001b[0m\u001b[0mEUCLIDEAN\u001b[0m\u001b[0;34m)\u001b[0m\u001b[0;34m)\u001b[0m\u001b[0;34m\u001b[0m\u001b[0;34m\u001b[0m\u001b[0m\n\u001b[1;32m      9\u001b[0m \u001b[0mtest_ood\u001b[0m\u001b[0;34m(\u001b[0m\u001b[0mOsnn\u001b[0m\u001b[0;34m(\u001b[0m\u001b[0mOsnn\u001b[0m\u001b[0;34m.\u001b[0m\u001b[0mCOSINE\u001b[0m\u001b[0;34m)\u001b[0m\u001b[0;34m)\u001b[0m\u001b[0;34m\u001b[0m\u001b[0;34m\u001b[0m\u001b[0m\n\u001b[0;32m---> 10\u001b[0;31m \u001b[0mtest_ood\u001b[0m\u001b[0;34m(\u001b[0m\u001b[0mOurDistance\u001b[0m\u001b[0;34m(\u001b[0m\u001b[0mOurDistance\u001b[0m\u001b[0;34m.\u001b[0m\u001b[0mEUCLIDEAN\u001b[0m\u001b[0;34m)\u001b[0m\u001b[0;34m)\u001b[0m\u001b[0;34m\u001b[0m\u001b[0;34m\u001b[0m\u001b[0m\n\u001b[0m\u001b[1;32m     11\u001b[0m \u001b[0mtest_ood\u001b[0m\u001b[0;34m(\u001b[0m\u001b[0mOurDistance\u001b[0m\u001b[0;34m(\u001b[0m\u001b[0mOurDistance\u001b[0m\u001b[0;34m.\u001b[0m\u001b[0mCOSINE\u001b[0m\u001b[0;34m)\u001b[0m\u001b[0;34m)\u001b[0m\u001b[0;34m\u001b[0m\u001b[0;34m\u001b[0m\u001b[0m\n",
      "\u001b[0;32m<ipython-input-2-d6a084fdbab9>\u001b[0m in \u001b[0;36mtest_ood\u001b[0;34m(ood)\u001b[0m\n\u001b[1;32m     28\u001b[0m \u001b[0;34m\u001b[0m\u001b[0m\n\u001b[1;32m     29\u001b[0m     \u001b[0mood\u001b[0m\u001b[0;34m.\u001b[0m\u001b[0mclear\u001b[0m\u001b[0;34m(\u001b[0m\u001b[0;34m)\u001b[0m\u001b[0;34m\u001b[0m\u001b[0;34m\u001b[0m\u001b[0m\n\u001b[0;32m---> 30\u001b[0;31m     \u001b[0mood\u001b[0m\u001b[0;34m.\u001b[0m\u001b[0mfit\u001b[0m\u001b[0;34m(\u001b[0m\u001b[0mtrain_df\u001b[0m\u001b[0;34m)\u001b[0m\u001b[0;34m\u001b[0m\u001b[0;34m\u001b[0m\u001b[0m\n\u001b[0m\u001b[1;32m     31\u001b[0m     \u001b[0mknown_results\u001b[0m \u001b[0;34m=\u001b[0m \u001b[0mood\u001b[0m\u001b[0;34m.\u001b[0m\u001b[0mtest\u001b[0m\u001b[0;34m(\u001b[0m\u001b[0mknown_df\u001b[0m\u001b[0;34m)\u001b[0m\u001b[0;34m\u001b[0m\u001b[0;34m\u001b[0m\u001b[0m\n\u001b[1;32m     32\u001b[0m     \u001b[0munknown_results\u001b[0m \u001b[0;34m=\u001b[0m \u001b[0mood\u001b[0m\u001b[0;34m.\u001b[0m\u001b[0mtest\u001b[0m\u001b[0;34m(\u001b[0m\u001b[0munknown_df\u001b[0m\u001b[0;34m)\u001b[0m\u001b[0;34m\u001b[0m\u001b[0;34m\u001b[0m\u001b[0m\n",
      "\u001b[0;32m/home/projects/ood_dataset/ood/our_distance.py\u001b[0m in \u001b[0;36mfit\u001b[0;34m(self, df)\u001b[0m\n\u001b[1;32m     54\u001b[0m         \u001b[0;31m# calculate train_correct\u001b[0m\u001b[0;34m\u001b[0m\u001b[0;34m\u001b[0m\u001b[0;34m\u001b[0m\u001b[0m\n\u001b[1;32m     55\u001b[0m         \u001b[0;32mfor\u001b[0m \u001b[0mbatch_number\u001b[0m\u001b[0;34m,\u001b[0m \u001b[0mbatch_df\u001b[0m \u001b[0;32min\u001b[0m \u001b[0mdf\u001b[0m\u001b[0;34m.\u001b[0m\u001b[0mgroupby\u001b[0m\u001b[0;34m(\u001b[0m\u001b[0mnp\u001b[0m\u001b[0;34m.\u001b[0m\u001b[0marange\u001b[0m\u001b[0;34m(\u001b[0m\u001b[0mlen\u001b[0m\u001b[0;34m(\u001b[0m\u001b[0mdf\u001b[0m\u001b[0;34m)\u001b[0m\u001b[0;34m)\u001b[0m \u001b[0;34m//\u001b[0m \u001b[0mself\u001b[0m\u001b[0;34m.\u001b[0m\u001b[0mbatch_size\u001b[0m\u001b[0;34m)\u001b[0m\u001b[0;34m:\u001b[0m\u001b[0;34m\u001b[0m\u001b[0;34m\u001b[0m\u001b[0m\n\u001b[0;32m---> 56\u001b[0;31m             \u001b[0mdistances\u001b[0m \u001b[0;34m=\u001b[0m \u001b[0mself\u001b[0m\u001b[0;34m.\u001b[0m\u001b[0m_get_distances\u001b[0m\u001b[0;34m(\u001b[0m\u001b[0mbatch_df\u001b[0m\u001b[0;34m)\u001b[0m\u001b[0;34m\u001b[0m\u001b[0;34m\u001b[0m\u001b[0m\n\u001b[0m\u001b[1;32m     57\u001b[0m             \u001b[0;32mfor\u001b[0m \u001b[0mindex\u001b[0m \u001b[0;32min\u001b[0m \u001b[0mrange\u001b[0m\u001b[0;34m(\u001b[0m\u001b[0mlen\u001b[0m\u001b[0;34m(\u001b[0m\u001b[0mbatch_df\u001b[0m\u001b[0;34m)\u001b[0m\u001b[0;34m)\u001b[0m\u001b[0;34m:\u001b[0m\u001b[0;34m\u001b[0m\u001b[0;34m\u001b[0m\u001b[0m\n\u001b[1;32m     58\u001b[0m                 \u001b[0mtrue_label\u001b[0m \u001b[0;34m=\u001b[0m \u001b[0mbatch_df\u001b[0m\u001b[0;34m.\u001b[0m\u001b[0miloc\u001b[0m\u001b[0;34m[\u001b[0m\u001b[0mindex\u001b[0m\u001b[0;34m]\u001b[0m\u001b[0;34m[\u001b[0m\u001b[0;34m\"original_label\"\u001b[0m\u001b[0;34m]\u001b[0m\u001b[0;34m\u001b[0m\u001b[0;34m\u001b[0m\u001b[0m\n",
      "\u001b[0;32m/home/projects/ood_dataset/ood/our_distance.py\u001b[0m in \u001b[0;36m_get_distances\u001b[0;34m(self, batch_df)\u001b[0m\n\u001b[1;32m     27\u001b[0m         \u001b[0mdistances\u001b[0m \u001b[0;34m=\u001b[0m \u001b[0mnp\u001b[0m\u001b[0;34m.\u001b[0m\u001b[0mzeros\u001b[0m\u001b[0;34m(\u001b[0m\u001b[0;34m(\u001b[0m\u001b[0mlen\u001b[0m\u001b[0;34m(\u001b[0m\u001b[0mself\u001b[0m\u001b[0;34m.\u001b[0m\u001b[0mclasses\u001b[0m\u001b[0;34m)\u001b[0m\u001b[0;34m,\u001b[0m \u001b[0mlen\u001b[0m\u001b[0;34m(\u001b[0m\u001b[0mbatch_df\u001b[0m\u001b[0;34m)\u001b[0m\u001b[0;34m)\u001b[0m\u001b[0;34m)\u001b[0m\u001b[0;34m\u001b[0m\u001b[0;34m\u001b[0m\u001b[0m\n\u001b[1;32m     28\u001b[0m         \u001b[0;32mfor\u001b[0m \u001b[0mindex\u001b[0m \u001b[0;32min\u001b[0m \u001b[0mrange\u001b[0m\u001b[0;34m(\u001b[0m\u001b[0mlen\u001b[0m\u001b[0;34m(\u001b[0m\u001b[0mself\u001b[0m\u001b[0;34m.\u001b[0m\u001b[0mclasses\u001b[0m\u001b[0;34m)\u001b[0m\u001b[0;34m)\u001b[0m\u001b[0;34m:\u001b[0m\u001b[0;34m\u001b[0m\u001b[0;34m\u001b[0m\u001b[0m\n\u001b[0;32m---> 29\u001b[0;31m             \u001b[0mdistances\u001b[0m\u001b[0;34m[\u001b[0m\u001b[0mindex\u001b[0m\u001b[0;34m]\u001b[0m \u001b[0;34m=\u001b[0m \u001b[0mspatial\u001b[0m\u001b[0;34m.\u001b[0m\u001b[0mdistance\u001b[0m\u001b[0;34m.\u001b[0m\u001b[0mcdist\u001b[0m\u001b[0;34m(\u001b[0m\u001b[0mbatch_df\u001b[0m\u001b[0;34m[\u001b[0m\u001b[0;34m\"features\"\u001b[0m\u001b[0;34m]\u001b[0m\u001b[0;34m.\u001b[0m\u001b[0mtolist\u001b[0m\u001b[0;34m(\u001b[0m\u001b[0;34m)\u001b[0m\u001b[0;34m,\u001b[0m \u001b[0mself\u001b[0m\u001b[0;34m.\u001b[0m\u001b[0mtrain_features\u001b[0m\u001b[0;34m[\u001b[0m\u001b[0mindex\u001b[0m\u001b[0;34m]\u001b[0m\u001b[0;34m,\u001b[0m \u001b[0mself\u001b[0m\u001b[0;34m.\u001b[0m\u001b[0mdistance\u001b[0m\u001b[0;34m)\u001b[0m\u001b[0;34m.\u001b[0m\u001b[0mmean\u001b[0m\u001b[0;34m(\u001b[0m\u001b[0;36m1\u001b[0m\u001b[0;34m)\u001b[0m\u001b[0;34m\u001b[0m\u001b[0;34m\u001b[0m\u001b[0m\n\u001b[0m\u001b[1;32m     30\u001b[0m         \u001b[0mdistances\u001b[0m \u001b[0;34m=\u001b[0m \u001b[0mnp\u001b[0m\u001b[0;34m.\u001b[0m\u001b[0mswapaxes\u001b[0m\u001b[0;34m(\u001b[0m\u001b[0mdistances\u001b[0m\u001b[0;34m,\u001b[0m \u001b[0;36m0\u001b[0m\u001b[0;34m,\u001b[0m \u001b[0;36m1\u001b[0m\u001b[0;34m)\u001b[0m\u001b[0;34m\u001b[0m\u001b[0;34m\u001b[0m\u001b[0m\n\u001b[1;32m     31\u001b[0m         \u001b[0;32mreturn\u001b[0m \u001b[0mdistances\u001b[0m\u001b[0;34m\u001b[0m\u001b[0;34m\u001b[0m\u001b[0m\n",
      "\u001b[0;32m/usr/local/lib/python3.6/dist-packages/scipy/spatial/distance.py\u001b[0m in \u001b[0;36mcdist\u001b[0;34m(XA, XB, metric, *args, **kwargs)\u001b[0m\n\u001b[1;32m   2778\u001b[0m             cdist_fn = getattr(_distance_wrap,\n\u001b[1;32m   2779\u001b[0m                                \"cdist_%s_%s_wrap\" % (metric_name, typ))\n\u001b[0;32m-> 2780\u001b[0;31m             \u001b[0mcdist_fn\u001b[0m\u001b[0;34m(\u001b[0m\u001b[0mXA\u001b[0m\u001b[0;34m,\u001b[0m \u001b[0mXB\u001b[0m\u001b[0;34m,\u001b[0m \u001b[0mdm\u001b[0m\u001b[0;34m,\u001b[0m \u001b[0;34m**\u001b[0m\u001b[0mkwargs\u001b[0m\u001b[0;34m)\u001b[0m\u001b[0;34m\u001b[0m\u001b[0;34m\u001b[0m\u001b[0m\n\u001b[0m\u001b[1;32m   2781\u001b[0m             \u001b[0;32mreturn\u001b[0m \u001b[0mdm\u001b[0m\u001b[0;34m\u001b[0m\u001b[0;34m\u001b[0m\u001b[0m\n\u001b[1;32m   2782\u001b[0m \u001b[0;34m\u001b[0m\u001b[0m\n",
      "\u001b[0;31mKeyboardInterrupt\u001b[0m: "
     ]
    }
   ],
   "source": [
    "model = cifar10_resnet101\n",
    "extraction = cifar10_resnet101_gap\n",
    "\n",
    "unknown_loader = itr_merge(cifar100_loader, svhn_loader, mnist_loader, noise_loader)\n",
    "train_df = get_df(train_loader)\n",
    "known_df = get_df(known_loader)\n",
    "unknown_df = get_df(unknown_loader)\n",
    "\n",
    "test_ood(MaxSoftmax())\n",
    "test_ood(MaxLogits())\n",
    "test_ood(Mahalanobis(is_robust=False))\n",
    "test_ood(LOF(LOF.EUCLIDEAN))\n",
    "test_ood(LOF(LOF.COSINE))\n",
    "test_ood(LOFDIV(LOFDIV.EUCLIDEAN))\n",
    "test_ood(LOFDIV(LOFDIV.COSINE))\n",
    "test_ood(Osnn(Osnn.EUCLIDEAN))\n",
    "test_ood(Osnn(Osnn.COSINE))\n",
    "test_ood(OurDistance(OurDistance.EUCLIDEAN))\n",
    "test_ood(OurDistance(OurDistance.COSINE))"
   ]
  },
  {
   "cell_type": "code",
   "execution_count": 9,
   "metadata": {},
   "outputs": [
    {
     "name": "stdout",
     "output_type": "stream",
     "text": [
      "            Done: df 1000\n",
      "Cifar10Resnet101 CroW MaxSoftmax --- 0.5 0 1000\n",
      "Cifar10Resnet101 CroW MaxLogits --- 0.5 0 1000\n",
      "Cifar10Resnet101 CroW mahalanobis --- 0.5 1000 0\n",
      "Cifar10Resnet101 CroW lof_euclidean --- 0.5 1000 0\n",
      "Cifar10Resnet101 CroW lof_cosine --- 0.5 1000 0\n",
      "Cifar10Resnet101 CroW lofdiv_euclidean --- 0.5 1000 0\n",
      "Cifar10Resnet101 CroW lofdiv_cosine --- 0.5 1000 0\n",
      "Cifar10Resnet101 CroW OSNN_euclidean --- 0.5 0 1000\n",
      "Cifar10Resnet101 CroW OSNN_cosine --- 0.5 0 1000\n"
     ]
    },
    {
     "ename": "KeyboardInterrupt",
     "evalue": "",
     "output_type": "error",
     "traceback": [
      "\u001b[0;31m---------------------------------------------------------------------------\u001b[0m",
      "\u001b[0;31mKeyboardInterrupt\u001b[0m                         Traceback (most recent call last)",
      "\u001b[0;32m<ipython-input-9-cf7d74140a5a>\u001b[0m in \u001b[0;36m<module>\u001b[0;34m\u001b[0m\n\u001b[1;32m     18\u001b[0m \u001b[0mtest_ood\u001b[0m\u001b[0;34m(\u001b[0m\u001b[0mOsnn\u001b[0m\u001b[0;34m(\u001b[0m\u001b[0mOsnn\u001b[0m\u001b[0;34m.\u001b[0m\u001b[0mEUCLIDEAN\u001b[0m\u001b[0;34m)\u001b[0m\u001b[0;34m)\u001b[0m\u001b[0;34m\u001b[0m\u001b[0;34m\u001b[0m\u001b[0m\n\u001b[1;32m     19\u001b[0m \u001b[0mtest_ood\u001b[0m\u001b[0;34m(\u001b[0m\u001b[0mOsnn\u001b[0m\u001b[0;34m(\u001b[0m\u001b[0mOsnn\u001b[0m\u001b[0;34m.\u001b[0m\u001b[0mCOSINE\u001b[0m\u001b[0;34m)\u001b[0m\u001b[0;34m)\u001b[0m\u001b[0;34m\u001b[0m\u001b[0;34m\u001b[0m\u001b[0m\n\u001b[0;32m---> 20\u001b[0;31m \u001b[0mtest_ood\u001b[0m\u001b[0;34m(\u001b[0m\u001b[0mOurDistance\u001b[0m\u001b[0;34m(\u001b[0m\u001b[0mOurDistance\u001b[0m\u001b[0;34m.\u001b[0m\u001b[0mEUCLIDEAN\u001b[0m\u001b[0;34m)\u001b[0m\u001b[0;34m)\u001b[0m\u001b[0;34m\u001b[0m\u001b[0;34m\u001b[0m\u001b[0m\n\u001b[0m\u001b[1;32m     21\u001b[0m \u001b[0mtest_ood\u001b[0m\u001b[0;34m(\u001b[0m\u001b[0mOurDistance\u001b[0m\u001b[0;34m(\u001b[0m\u001b[0mOurDistance\u001b[0m\u001b[0;34m.\u001b[0m\u001b[0mCOSINE\u001b[0m\u001b[0;34m)\u001b[0m\u001b[0;34m)\u001b[0m\u001b[0;34m\u001b[0m\u001b[0;34m\u001b[0m\u001b[0m\n",
      "\u001b[0;32m<ipython-input-2-d6a084fdbab9>\u001b[0m in \u001b[0;36mtest_ood\u001b[0;34m(ood)\u001b[0m\n\u001b[1;32m     28\u001b[0m \u001b[0;34m\u001b[0m\u001b[0m\n\u001b[1;32m     29\u001b[0m     \u001b[0mood\u001b[0m\u001b[0;34m.\u001b[0m\u001b[0mclear\u001b[0m\u001b[0;34m(\u001b[0m\u001b[0;34m)\u001b[0m\u001b[0;34m\u001b[0m\u001b[0;34m\u001b[0m\u001b[0m\n\u001b[0;32m---> 30\u001b[0;31m     \u001b[0mood\u001b[0m\u001b[0;34m.\u001b[0m\u001b[0mfit\u001b[0m\u001b[0;34m(\u001b[0m\u001b[0mtrain_df\u001b[0m\u001b[0;34m)\u001b[0m\u001b[0;34m\u001b[0m\u001b[0;34m\u001b[0m\u001b[0m\n\u001b[0m\u001b[1;32m     31\u001b[0m     \u001b[0mknown_results\u001b[0m \u001b[0;34m=\u001b[0m \u001b[0mood\u001b[0m\u001b[0;34m.\u001b[0m\u001b[0mtest\u001b[0m\u001b[0;34m(\u001b[0m\u001b[0mknown_df\u001b[0m\u001b[0;34m)\u001b[0m\u001b[0;34m\u001b[0m\u001b[0;34m\u001b[0m\u001b[0m\n\u001b[1;32m     32\u001b[0m     \u001b[0munknown_results\u001b[0m \u001b[0;34m=\u001b[0m \u001b[0mood\u001b[0m\u001b[0;34m.\u001b[0m\u001b[0mtest\u001b[0m\u001b[0;34m(\u001b[0m\u001b[0munknown_df\u001b[0m\u001b[0;34m)\u001b[0m\u001b[0;34m\u001b[0m\u001b[0;34m\u001b[0m\u001b[0m\n",
      "\u001b[0;32m/home/projects/ood_dataset/ood/our_distance.py\u001b[0m in \u001b[0;36mfit\u001b[0;34m(self, df)\u001b[0m\n\u001b[1;32m     54\u001b[0m         \u001b[0;31m# calculate train_correct\u001b[0m\u001b[0;34m\u001b[0m\u001b[0;34m\u001b[0m\u001b[0;34m\u001b[0m\u001b[0m\n\u001b[1;32m     55\u001b[0m         \u001b[0;32mfor\u001b[0m \u001b[0mbatch_number\u001b[0m\u001b[0;34m,\u001b[0m \u001b[0mbatch_df\u001b[0m \u001b[0;32min\u001b[0m \u001b[0mdf\u001b[0m\u001b[0;34m.\u001b[0m\u001b[0mgroupby\u001b[0m\u001b[0;34m(\u001b[0m\u001b[0mnp\u001b[0m\u001b[0;34m.\u001b[0m\u001b[0marange\u001b[0m\u001b[0;34m(\u001b[0m\u001b[0mlen\u001b[0m\u001b[0;34m(\u001b[0m\u001b[0mdf\u001b[0m\u001b[0;34m)\u001b[0m\u001b[0;34m)\u001b[0m \u001b[0;34m//\u001b[0m \u001b[0mself\u001b[0m\u001b[0;34m.\u001b[0m\u001b[0mbatch_size\u001b[0m\u001b[0;34m)\u001b[0m\u001b[0;34m:\u001b[0m\u001b[0;34m\u001b[0m\u001b[0;34m\u001b[0m\u001b[0m\n\u001b[0;32m---> 56\u001b[0;31m             \u001b[0mdistances\u001b[0m \u001b[0;34m=\u001b[0m \u001b[0mself\u001b[0m\u001b[0;34m.\u001b[0m\u001b[0m_get_distances\u001b[0m\u001b[0;34m(\u001b[0m\u001b[0mbatch_df\u001b[0m\u001b[0;34m)\u001b[0m\u001b[0;34m\u001b[0m\u001b[0;34m\u001b[0m\u001b[0m\n\u001b[0m\u001b[1;32m     57\u001b[0m             \u001b[0;32mfor\u001b[0m \u001b[0mindex\u001b[0m \u001b[0;32min\u001b[0m \u001b[0mrange\u001b[0m\u001b[0;34m(\u001b[0m\u001b[0mlen\u001b[0m\u001b[0;34m(\u001b[0m\u001b[0mbatch_df\u001b[0m\u001b[0;34m)\u001b[0m\u001b[0;34m)\u001b[0m\u001b[0;34m:\u001b[0m\u001b[0;34m\u001b[0m\u001b[0;34m\u001b[0m\u001b[0m\n\u001b[1;32m     58\u001b[0m                 \u001b[0mtrue_label\u001b[0m \u001b[0;34m=\u001b[0m \u001b[0mbatch_df\u001b[0m\u001b[0;34m.\u001b[0m\u001b[0miloc\u001b[0m\u001b[0;34m[\u001b[0m\u001b[0mindex\u001b[0m\u001b[0;34m]\u001b[0m\u001b[0;34m[\u001b[0m\u001b[0;34m\"original_label\"\u001b[0m\u001b[0;34m]\u001b[0m\u001b[0;34m\u001b[0m\u001b[0;34m\u001b[0m\u001b[0m\n",
      "\u001b[0;32m/home/projects/ood_dataset/ood/our_distance.py\u001b[0m in \u001b[0;36m_get_distances\u001b[0;34m(self, batch_df)\u001b[0m\n\u001b[1;32m     27\u001b[0m         \u001b[0mdistances\u001b[0m \u001b[0;34m=\u001b[0m \u001b[0mnp\u001b[0m\u001b[0;34m.\u001b[0m\u001b[0mzeros\u001b[0m\u001b[0;34m(\u001b[0m\u001b[0;34m(\u001b[0m\u001b[0mlen\u001b[0m\u001b[0;34m(\u001b[0m\u001b[0mself\u001b[0m\u001b[0;34m.\u001b[0m\u001b[0mclasses\u001b[0m\u001b[0;34m)\u001b[0m\u001b[0;34m,\u001b[0m \u001b[0mlen\u001b[0m\u001b[0;34m(\u001b[0m\u001b[0mbatch_df\u001b[0m\u001b[0;34m)\u001b[0m\u001b[0;34m)\u001b[0m\u001b[0;34m)\u001b[0m\u001b[0;34m\u001b[0m\u001b[0;34m\u001b[0m\u001b[0m\n\u001b[1;32m     28\u001b[0m         \u001b[0;32mfor\u001b[0m \u001b[0mindex\u001b[0m \u001b[0;32min\u001b[0m \u001b[0mrange\u001b[0m\u001b[0;34m(\u001b[0m\u001b[0mlen\u001b[0m\u001b[0;34m(\u001b[0m\u001b[0mself\u001b[0m\u001b[0;34m.\u001b[0m\u001b[0mclasses\u001b[0m\u001b[0;34m)\u001b[0m\u001b[0;34m)\u001b[0m\u001b[0;34m:\u001b[0m\u001b[0;34m\u001b[0m\u001b[0;34m\u001b[0m\u001b[0m\n\u001b[0;32m---> 29\u001b[0;31m             \u001b[0mdistances\u001b[0m\u001b[0;34m[\u001b[0m\u001b[0mindex\u001b[0m\u001b[0;34m]\u001b[0m \u001b[0;34m=\u001b[0m \u001b[0mspatial\u001b[0m\u001b[0;34m.\u001b[0m\u001b[0mdistance\u001b[0m\u001b[0;34m.\u001b[0m\u001b[0mcdist\u001b[0m\u001b[0;34m(\u001b[0m\u001b[0mbatch_df\u001b[0m\u001b[0;34m[\u001b[0m\u001b[0;34m\"features\"\u001b[0m\u001b[0;34m]\u001b[0m\u001b[0;34m.\u001b[0m\u001b[0mtolist\u001b[0m\u001b[0;34m(\u001b[0m\u001b[0;34m)\u001b[0m\u001b[0;34m,\u001b[0m \u001b[0mself\u001b[0m\u001b[0;34m.\u001b[0m\u001b[0mtrain_features\u001b[0m\u001b[0;34m[\u001b[0m\u001b[0mindex\u001b[0m\u001b[0;34m]\u001b[0m\u001b[0;34m,\u001b[0m \u001b[0mself\u001b[0m\u001b[0;34m.\u001b[0m\u001b[0mdistance\u001b[0m\u001b[0;34m)\u001b[0m\u001b[0;34m.\u001b[0m\u001b[0mmean\u001b[0m\u001b[0;34m(\u001b[0m\u001b[0;36m1\u001b[0m\u001b[0;34m)\u001b[0m\u001b[0;34m\u001b[0m\u001b[0;34m\u001b[0m\u001b[0m\n\u001b[0m\u001b[1;32m     30\u001b[0m         \u001b[0mdistances\u001b[0m \u001b[0;34m=\u001b[0m \u001b[0mnp\u001b[0m\u001b[0;34m.\u001b[0m\u001b[0mswapaxes\u001b[0m\u001b[0;34m(\u001b[0m\u001b[0mdistances\u001b[0m\u001b[0;34m,\u001b[0m \u001b[0;36m0\u001b[0m\u001b[0;34m,\u001b[0m \u001b[0;36m1\u001b[0m\u001b[0;34m)\u001b[0m\u001b[0;34m\u001b[0m\u001b[0;34m\u001b[0m\u001b[0m\n\u001b[1;32m     31\u001b[0m         \u001b[0;32mreturn\u001b[0m \u001b[0mdistances\u001b[0m\u001b[0;34m\u001b[0m\u001b[0;34m\u001b[0m\u001b[0m\n",
      "\u001b[0;32m/usr/local/lib/python3.6/dist-packages/scipy/spatial/distance.py\u001b[0m in \u001b[0;36mcdist\u001b[0;34m(XA, XB, metric, *args, **kwargs)\u001b[0m\n\u001b[1;32m   2778\u001b[0m             cdist_fn = getattr(_distance_wrap,\n\u001b[1;32m   2779\u001b[0m                                \"cdist_%s_%s_wrap\" % (metric_name, typ))\n\u001b[0;32m-> 2780\u001b[0;31m             \u001b[0mcdist_fn\u001b[0m\u001b[0;34m(\u001b[0m\u001b[0mXA\u001b[0m\u001b[0;34m,\u001b[0m \u001b[0mXB\u001b[0m\u001b[0;34m,\u001b[0m \u001b[0mdm\u001b[0m\u001b[0;34m,\u001b[0m \u001b[0;34m**\u001b[0m\u001b[0mkwargs\u001b[0m\u001b[0;34m)\u001b[0m\u001b[0;34m\u001b[0m\u001b[0;34m\u001b[0m\u001b[0m\n\u001b[0m\u001b[1;32m   2781\u001b[0m             \u001b[0;32mreturn\u001b[0m \u001b[0mdm\u001b[0m\u001b[0;34m\u001b[0m\u001b[0;34m\u001b[0m\u001b[0m\n\u001b[1;32m   2782\u001b[0m \u001b[0;34m\u001b[0m\u001b[0m\n",
      "\u001b[0;31mKeyboardInterrupt\u001b[0m: "
     ]
    }
   ],
   "source": [
    "model = cifar10_resnet101\n",
    "extraction = cifar10_resnet101_crow\n",
    "\n",
    "unknown_loader = itr_merge(cifar100_loader, svhn_loader, mnist_loader, noise_loader)\n",
    "train_df = get_df(train_loader)\n",
    "known_df = get_df(known_loader)\n",
    "unknown_df = get_df(unknown_loader)\n",
    "\n",
    "###\n",
    "\n",
    "test_ood(MaxSoftmax())\n",
    "test_ood(MaxLogits())\n",
    "test_ood(Mahalanobis(is_robust=False))\n",
    "test_ood(LOF(LOF.EUCLIDEAN))\n",
    "test_ood(LOF(LOF.COSINE))\n",
    "test_ood(LOFDIV(LOFDIV.EUCLIDEAN))\n",
    "test_ood(LOFDIV(LOFDIV.COSINE))\n",
    "test_ood(Osnn(Osnn.EUCLIDEAN))\n",
    "test_ood(Osnn(Osnn.COSINE))\n",
    "test_ood(OurDistance(OurDistance.EUCLIDEAN))\n",
    "test_ood(OurDistance(OurDistance.COSINE))"
   ]
  },
  {
   "cell_type": "code",
   "execution_count": 11,
   "metadata": {},
   "outputs": [
    {
     "name": "stdout",
     "output_type": "stream",
     "text": [
      "            Done: df 50000\n",
      "            Done: df 1000\n",
      "            Done: df 1000\n",
      "Cifar10Simple gap MaxSoftmax --- 0.5 0 1000\n",
      "Cifar10Simple gap MaxLogits --- 0.5005 998 1\n",
      "Cifar10Simple gap mahalanobis --- 0.584 87 745\n",
      "Cifar10Simple gap lof_euclidean --- 0.6095 67 714\n",
      "Cifar10Simple gap lof_cosine --- 0.594 435 377\n",
      "Cifar10Simple gap lofdiv_euclidean --- 0.618 60 704\n",
      "Cifar10Simple gap lofdiv_cosine --- 0.562 506 370\n",
      "Cifar10Simple gap OSNN_euclidean --- 0.522 403 553\n",
      "Cifar10Simple gap OSNN_cosine --- 0.5065 388 599\n",
      "Cifar10Simple gap our_distance_euclidean --- 0.589 212 610\n",
      "Cifar10Simple gap our_distance_cosine --- 0.5 1 999\n"
     ]
    }
   ],
   "source": [
    "model = cifar10_simple\n",
    "extraction = cifar10_simple_gap\n",
    "\n",
    "unknown_loader = itr_merge(cifar100_loader, svhn_loader, mnist_loader, noise_loader)\n",
    "train_df = get_df(train_loader)\n",
    "known_df = get_df(known_loader)\n",
    "unknown_df = get_df(unknown_loader)\n",
    "\n",
    "###\n",
    "\n",
    "test_ood(MaxSoftmax())\n",
    "test_ood(MaxLogits())\n",
    "test_ood(Mahalanobis(is_robust=False))\n",
    "test_ood(LOF(LOF.EUCLIDEAN))\n",
    "test_ood(LOF(LOF.COSINE))\n",
    "test_ood(LOFDIV(LOFDIV.EUCLIDEAN))\n",
    "test_ood(LOFDIV(LOFDIV.COSINE))\n",
    "test_ood(Osnn(Osnn.EUCLIDEAN))\n",
    "test_ood(Osnn(Osnn.COSINE))\n",
    "test_ood(OurDistance(OurDistance.EUCLIDEAN))\n",
    "test_ood(OurDistance(OurDistance.COSINE))"
   ]
  },
  {
   "cell_type": "code",
   "execution_count": null,
   "metadata": {},
   "outputs": [],
   "source": []
  }
 ],
 "metadata": {
  "kernelspec": {
   "display_name": "Python 3",
   "language": "python",
   "name": "python3"
  },
  "language_info": {
   "codemirror_mode": {
    "name": "ipython",
    "version": 3
   },
   "file_extension": ".py",
   "mimetype": "text/x-python",
   "name": "python",
   "nbconvert_exporter": "python",
   "pygments_lexer": "ipython3",
   "version": "3.6.9"
  }
 },
 "nbformat": 4,
 "nbformat_minor": 4
}
