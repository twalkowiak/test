{
 "cells": [
  {
   "cell_type": "code",
   "execution_count": 1,
   "metadata": {},
   "outputs": [],
   "source": [
    "import numpy as np\n",
    "from calculate_metrics_full import CalculateMetricsFull"
   ]
  },
  {
   "cell_type": "code",
   "execution_count": 2,
   "metadata": {},
   "outputs": [],
   "source": [
    "train_results = np.load('./train.npy')\n",
    "known_results =  np.load('./test.npy')\n",
    "unknown_results = np.load('./svhn.npy')"
   ]
  },
  {
   "cell_type": "code",
   "execution_count": 6,
   "metadata": {},
   "outputs": [
    {
     "name": "stdout",
     "output_type": "stream",
     "text": [
      "(48768, 10) (10000, 10) (10000, 10)\n",
      "{'acc_close': 0.1128, 'acc_open': 0.9995, 'max_bin_acc': 0.55615, 'max_bin_f1': 0.69248, 'auc': 0.96225, 'aupr_in': 0.95908, 'aupr_out': 0.96562, 'fpr_95': 0.2083, 'fpr_90': 0.106, 'tnr_95': 0.8339}\n"
     ]
    }
   ],
   "source": [
    "class Ood:\n",
    "    def __init__(self, data):\n",
    "        data = np.array(data)\n",
    "        self.max = np.max(np.max(data))\n",
    "    \n",
    "    def verify(self, out, p):\n",
    "        return out <= self.max * p\n",
    "    \n",
    "    def test(self, data):\n",
    "        data = np.array(data)\n",
    "        return np.max(data, axis=1)\n",
    "    \n",
    "\n",
    "print(train_results.shape, known_results.shape, unknown_results.shape)    \n",
    "ood = Ood(train_results)\n",
    "calculate_metrics_full = CalculateMetricsFull()\n",
    "res = calculate_metrics_full.run(ood, ood.test(known_results), ood.test(unknown_results))\n",
    "print(res)"
   ]
  },
  {
   "cell_type": "code",
   "execution_count": null,
   "metadata": {},
   "outputs": [],
   "source": []
  }
 ],
 "metadata": {
  "kernelspec": {
   "display_name": "Python 3",
   "language": "python",
   "name": "python3"
  },
  "language_info": {
   "codemirror_mode": {
    "name": "ipython",
    "version": 3
   },
   "file_extension": ".py",
   "mimetype": "text/x-python",
   "name": "python",
   "nbconvert_exporter": "python",
   "pygments_lexer": "ipython3",
   "version": "3.6.9"
  }
 },
 "nbformat": 4,
 "nbformat_minor": 4
}
